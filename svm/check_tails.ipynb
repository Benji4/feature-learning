{
 "cells": [
  {
   "cell_type": "code",
   "execution_count": 1,
   "metadata": {},
   "outputs": [],
   "source": [
    "import numpy as np"
   ]
  },
  {
   "cell_type": "code",
   "execution_count": 2,
   "metadata": {},
   "outputs": [],
   "source": [
    "filename = 'zebrafish_all_tail.npz'\n",
    "loaded = np.load(filename)\n",
    "tails, y = loaded['tails'], loaded['targets'] # This works only with numpy version 1.16.2 (not with 1.16.4)."
   ]
  },
  {
   "cell_type": "code",
   "execution_count": 3,
   "metadata": {},
   "outputs": [],
   "source": [
    "def check_frame(frame,i, bad_idxs):    \n",
    "    unique_points = np.unique(frame, axis=0)\n",
    "    if len(frame) < 13:\n",
    "#           print(len(frame),\"points at\",i,j)\n",
    "        bad_idxs.append(i)\n",
    "#           print(len(unique_points))\n",
    "    elif not (np.all(frame >= 0) and np.all(frame <= 255)):\n",
    "        print(i, \"has impossible x or y values.\")\n",
    "#           print(frame)\n",
    "        bad_idxs.append(i)\n",
    "    elif len(unique_points) < 13:\n",
    "        print(i, \"has only\", len(unique_points), \"distinct points\")\n",
    "#           print(frame)\n",
    "        bad_idxs.append(i)\n",
    "    for k,point in enumerate(frame):\n",
    "        if len(point) != 2:\n",
    "            print(i,\"has wrong point.\")\n",
    "            print(point)\n",
    "            bad_idxs.append(i)\n",
    "    return bad_idxs"
   ]
  },
  {
   "cell_type": "code",
   "execution_count": 4,
   "metadata": {},
   "outputs": [],
   "source": [
    "def check_sample(sample, i, bad_idxs):\n",
    "    if not sample:\n",
    "        print(i,\"is empty.\")\n",
    "        bad_idxs.append(i)\n",
    "    elif len(sample) != 150:\n",
    "        print(i,\"does not have 150 frames.\")\n",
    "        bad_idxs.append(i)\n",
    "    else:\n",
    "        for j,frame in enumerate(sample):\n",
    "            bad_idxs = check_frame(frame, i, bad_idxs)\n",
    "    return bad_idxs"
   ]
  },
  {
   "cell_type": "markdown",
   "metadata": {},
   "source": [
    "# Check tails"
   ]
  },
  {
   "cell_type": "code",
   "execution_count": 5,
   "metadata": {
    "scrolled": false
   },
   "outputs": [
    {
     "name": "stdout",
     "output_type": "stream",
     "text": [
      "128 is empty.\n",
      "159 is empty.\n",
      "160 is empty.\n",
      "166 is empty.\n",
      "168 is empty.\n",
      "193 is empty.\n",
      "194 is empty.\n",
      "234 is empty.\n",
      "255 is empty.\n",
      "256 is empty.\n",
      "257 is empty.\n",
      "258 is empty.\n",
      "259 is empty.\n",
      "286 is empty.\n",
      "287 is empty.\n",
      "288 is empty.\n",
      "289 is empty.\n",
      "290 is empty.\n",
      "291 is empty.\n",
      "292 is empty.\n",
      "293 is empty.\n",
      "294 is empty.\n",
      "295 is empty.\n",
      "296 is empty.\n",
      "297 is empty.\n",
      "300 is empty.\n",
      "328 is empty.\n",
      "374 is empty.\n",
      "389 is empty.\n",
      "390 is empty.\n",
      "395 is empty.\n",
      "396 is empty.\n",
      "408 is empty.\n",
      "409 is empty.\n",
      "410 is empty.\n",
      "411 is empty.\n",
      "412 is empty.\n",
      "413 is empty.\n",
      "414 is empty.\n",
      "415 is empty.\n",
      "416 is empty.\n",
      "417 is empty.\n",
      "418 is empty.\n",
      "419 is empty.\n",
      "420 is empty.\n",
      "524 is empty.\n",
      "525 is empty.\n",
      "526 is empty.\n",
      "527 is empty.\n",
      "550 is empty.\n",
      "587 is empty.\n",
      "588 is empty.\n",
      "589 is empty.\n",
      "590 is empty.\n",
      "591 is empty.\n",
      "592 is empty.\n",
      "594 is empty.\n",
      "595 is empty.\n",
      "596 is empty.\n",
      "597 is empty.\n",
      "598 is empty.\n",
      "599 is empty.\n",
      "600 is empty.\n",
      "601 is empty.\n",
      "602 is empty.\n",
      "603 is empty.\n",
      "623 is empty.\n",
      "624 is empty.\n",
      "625 is empty.\n",
      "626 is empty.\n",
      "627 is empty.\n",
      "629 is empty.\n",
      "630 is empty.\n",
      "634 is empty.\n",
      "635 is empty.\n",
      "636 is empty.\n",
      "637 is empty.\n",
      "638 is empty.\n",
      "657 is empty.\n",
      "658 is empty.\n",
      "664 is empty.\n",
      "666 is empty.\n",
      "667 is empty.\n",
      "669 is empty.\n",
      "670 has only 7 distinct points\n",
      "678 has only 5 distinct points\n",
      "694 is empty.\n",
      "695 is empty.\n",
      "696 is empty.\n",
      "697 is empty.\n",
      "715 is empty.\n",
      "716 is empty.\n",
      "740 is empty.\n",
      "744 is empty.\n",
      "796 is empty.\n",
      "820 is empty.\n",
      "822 is empty.\n",
      "823 is empty.\n",
      "824 is empty.\n",
      "828 has only 5 distinct points\n",
      "843 is empty.\n",
      "845 is empty.\n",
      "846 is empty.\n",
      "847 is empty.\n",
      "861 is empty.\n",
      "863 is empty.\n",
      "889 is empty.\n",
      "920 is empty.\n",
      "929 is empty.\n",
      "934 is empty.\n",
      "937 has only 5 distinct points\n",
      "937 has only 6 distinct points\n",
      "938 is empty.\n",
      "941 is empty.\n",
      "955 is empty.\n",
      "956 is empty.\n",
      "962 is empty.\n",
      "1012 is empty.\n",
      "1013 is empty.\n",
      "1047 is empty.\n",
      "1137 is empty.\n",
      "1138 is empty.\n",
      "1153 is empty.\n",
      "1154 is empty.\n",
      "1155 is empty.\n",
      "[  96   97   98  128  130  131  143  144  159  160  166  167  168  193\n",
      "  194  234  255  256  257  258  259  264  265  266  267  268  286  287\n",
      "  288  289  290  291  292  293  294  295  296  297  300  308  320  321\n",
      "  328  336  350  351  352  353  373  374  389  390  395  396  397  408\n",
      "  409  410  411  412  413  414  415  416  417  418  419  420  421  422\n",
      "  423  428  429  430  431  433  436  437  438  439  442  443  444  445\n",
      "  446  447  464  466  467  469  473  474  476  481  484  486  490  491\n",
      "  492  497  502  504  509  510  511  512  513  514  515  524  525  526\n",
      "  527  550  587  588  589  590  591  592  594  595  596  597  598  599\n",
      "  600  601  602  603  606  607  608  610  612  616  623  624  625  626\n",
      "  627  629  630  634  635  636  637  638  639  641  643  644  645  647\n",
      "  651  657  658  664  666  667  669  670  678  694  695  696  697  700\n",
      "  701  702  715  716  722  724  731  733  734  735  740  744  748  768\n",
      "  770  771  773  775  779  780  782  785  795  796  803  805  806  807\n",
      "  817  818  820  822  823  824  825  826  828  830  831  832  833  840\n",
      "  841  842  843  845  846  847  858  860  861  863  870  889  899  904\n",
      "  905  906  909  911  915  916  918  919  920  926  927  929  934  937\n",
      "  938  939  941  946  955  956  958  959  962  964 1006 1007 1010 1012\n",
      " 1013 1047 1114 1137 1138 1153 1154 1155 1186]\n"
     ]
    }
   ],
   "source": [
    "bad_idxs = []\n",
    "for i,sample in enumerate(tails):\n",
    "    bad_idxs = check_sample(sample, i, bad_idxs)\n",
    "\n",
    "bad_idxs = np.unique(bad_idxs)\n",
    "print(bad_idxs)"
   ]
  },
  {
   "cell_type": "code",
   "execution_count": 9,
   "metadata": {},
   "outputs": [
    {
     "name": "stdout",
     "output_type": "stream",
     "text": [
      "953 out of 1214 videos are fine.\n"
     ]
    }
   ],
   "source": [
    "good_idxs = np.setdiff1d(np.arange(len(tails)), bad_idxs)\n",
    "print(len(good_idxs), \"out of\", len(tails), \"videos are fine.\")"
   ]
  },
  {
   "cell_type": "code",
   "execution_count": 10,
   "metadata": {},
   "outputs": [],
   "source": [
    "tails_clean = tails[good_idxs]\n",
    "y_clean = y[good_idxs]"
   ]
  },
  {
   "cell_type": "code",
   "execution_count": 11,
   "metadata": {},
   "outputs": [],
   "source": [
    "np.savez(\"zebrafish_all_tail_clean.npz\", tails=tails_clean, targets=y_clean)"
   ]
  },
  {
   "cell_type": "code",
   "execution_count": null,
   "metadata": {},
   "outputs": [],
   "source": [
    "1/12"
   ]
  }
 ],
 "metadata": {
  "kernelspec": {
   "display_name": "Python 3",
   "language": "python",
   "name": "python3"
  },
  "language_info": {
   "codemirror_mode": {
    "name": "ipython",
    "version": 3
   },
   "file_extension": ".py",
   "mimetype": "text/x-python",
   "name": "python",
   "nbconvert_exporter": "python",
   "pygments_lexer": "ipython3",
   "version": "3.7.3"
  }
 },
 "nbformat": 4,
 "nbformat_minor": 2
}
