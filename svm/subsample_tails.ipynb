{
 "cells": [
  {
   "cell_type": "code",
   "execution_count": 50,
   "metadata": {},
   "outputs": [],
   "source": [
    "import numpy as np\n",
    "import time\n",
    "import pickle"
   ]
  },
  {
   "cell_type": "code",
   "execution_count": 2,
   "metadata": {},
   "outputs": [],
   "source": [
    "loaded = np.load(\"zebrafish_all_tail_clean.npz\")\n",
    "tails, y = loaded['tails'], loaded['targets']"
   ]
  },
  {
   "cell_type": "code",
   "execution_count": 6,
   "metadata": {},
   "outputs": [],
   "source": [
    "path = \"data/masks.npz\"\n",
    "masks = np.load(path)['masks']"
   ]
  },
  {
   "cell_type": "code",
   "execution_count": 31,
   "metadata": {},
   "outputs": [
    {
     "data": {
      "text/plain": [
       "953"
      ]
     },
     "execution_count": 31,
     "metadata": {},
     "output_type": "execute_result"
    }
   ],
   "source": [
    "len(tails)"
   ]
  },
  {
   "cell_type": "code",
   "execution_count": 26,
   "metadata": {},
   "outputs": [
    {
     "data": {
      "text/plain": [
       "array([[ 20., 125.],\n",
       "       [ 25., 126.],\n",
       "       [ 30., 125.],\n",
       "       [ 35., 125.],\n",
       "       [ 40., 126.],\n",
       "       [ 45., 125.],\n",
       "       [ 50., 125.],\n",
       "       [ 55., 125.],\n",
       "       [ 60., 125.],\n",
       "       [ 65., 125.],\n",
       "       [ 70., 125.],\n",
       "       [ 75., 125.],\n",
       "       [ 80., 125.],\n",
       "       [ 85., 125.],\n",
       "       [ 90., 125.],\n",
       "       [ 95., 125.],\n",
       "       [100., 125.],\n",
       "       [105., 125.],\n",
       "       [110., 125.],\n",
       "       [115., 125.],\n",
       "       [120., 125.],\n",
       "       [125., 125.],\n",
       "       [130., 125.],\n",
       "       [135., 125.],\n",
       "       [140., 123.],\n",
       "       [146., 124.],\n",
       "       [150., 124.],\n",
       "       [155., 125.],\n",
       "       [160., 124.],\n",
       "       [165., 125.],\n",
       "       [169., 125.],\n",
       "       [174., 125.],\n",
       "       [179., 125.],\n",
       "       [184., 126.],\n",
       "       [189., 125.],\n",
       "       [194., 125.]])"
      ]
     },
     "execution_count": 26,
     "metadata": {},
     "output_type": "execute_result"
    }
   ],
   "source": [
    "np.array(tails[2])[0]"
   ]
  },
  {
   "cell_type": "code",
   "execution_count": 7,
   "metadata": {},
   "outputs": [
    {
     "data": {
      "text/plain": [
       "(187, 149)"
      ]
     },
     "execution_count": 7,
     "metadata": {},
     "output_type": "execute_result"
    }
   ],
   "source": [
    "masks.shape"
   ]
  },
  {
   "cell_type": "code",
   "execution_count": 48,
   "metadata": {},
   "outputs": [
    {
     "name": "stdout",
     "output_type": "stream",
     "text": [
      "Subsampling done in 18.652453184127808 seconds.\n"
     ]
    },
    {
     "data": {
      "text/plain": [
       "(178211, 178211)"
      ]
     },
     "execution_count": 48,
     "metadata": {},
     "output_type": "execute_result"
    }
   ],
   "source": [
    "start = time.time()\n",
    "num_subsamples = len(masks)\n",
    "num_frames = 90\n",
    "# # print(\"Required memory:\", X.shape[0] * num_subsamples * n * X.shape[2] * X.shape[3] / 10 ** 9, \"GB\")\n",
    "idxs = np.nonzero(masks)[1].reshape((num_subsamples, num_frames))  # turn boolean mask into indices\n",
    "tails_augmented = []\n",
    "y_augmented = []\n",
    "for i,sample in enumerate(tails): # \n",
    "    for j,idx in enumerate(idxs):\n",
    "    #     print(len(idx))\n",
    "        tails_augmented.append(np.array(sample)[idx])\n",
    "        y_augmented.append(y[i])\n",
    "\n",
    "print(\"Subsampling done in\", time.time()-start, \"seconds.\")\n",
    "# print(tails_augmented.shape)\n",
    "len(tails_augmented), len(y_augmented)\n"
   ]
  },
  {
   "cell_type": "code",
   "execution_count": 47,
   "metadata": {},
   "outputs": [
    {
     "data": {
      "text/plain": [
       "48"
      ]
     },
     "execution_count": 47,
     "metadata": {},
     "output_type": "execute_result"
    }
   ],
   "source": [
    "len(tails_augmented[4083][0])"
   ]
  },
  {
   "cell_type": "code",
   "execution_count": 52,
   "metadata": {},
   "outputs": [],
   "source": [
    "data = {\"tails\": tails_augmented, \"targets\": y_augmented}\n",
    "pickle.dump( data, open( \"zebrafish_all_tail_aug.p\", \"wb\" ) )\n",
    "# np.savez(\"zebrafish_all_tail_aug.npz\", tails=tails_augmented, targets=y_augmented) does not work, because frames have varying numbers of points"
   ]
  },
  {
   "cell_type": "code",
   "execution_count": 53,
   "metadata": {},
   "outputs": [],
   "source": [
    "data_loaded = pickle.load( open( \"zebrafish_all_tail_aug.p\", \"rb\" ) )"
   ]
  },
  {
   "cell_type": "code",
   "execution_count": 54,
   "metadata": {},
   "outputs": [],
   "source": [
    "X_loaded = data_loaded['tails']\n",
    "y_loaded = data_loaded['targets']"
   ]
  },
  {
   "cell_type": "code",
   "execution_count": 56,
   "metadata": {},
   "outputs": [
    {
     "data": {
      "text/plain": [
       "(178211, 178211)"
      ]
     },
     "execution_count": 56,
     "metadata": {},
     "output_type": "execute_result"
    }
   ],
   "source": [
    "len(X_loaded), len(y_loaded)"
   ]
  },
  {
   "cell_type": "code",
   "execution_count": null,
   "metadata": {},
   "outputs": [],
   "source": []
  }
 ],
 "metadata": {
  "kernelspec": {
   "display_name": "Python 3",
   "language": "python",
   "name": "python3"
  },
  "language_info": {
   "codemirror_mode": {
    "name": "ipython",
    "version": 3
   },
   "file_extension": ".py",
   "mimetype": "text/x-python",
   "name": "python",
   "nbconvert_exporter": "python",
   "pygments_lexer": "ipython3",
   "version": "3.7.3"
  }
 },
 "nbformat": 4,
 "nbformat_minor": 2
}
